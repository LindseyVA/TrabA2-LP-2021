{
 "cells": [
  {
   "cell_type": "markdown",
   "id": "23ba2ff8",
   "metadata": {},
   "source": [
    "# Bibliotecas Usadas"
   ]
  },
  {
   "cell_type": "code",
   "execution_count": 66,
   "id": "62f36297",
   "metadata": {},
   "outputs": [],
   "source": [
    "from faker import Faker\n",
    "from datetime import datetime, timedelta\n",
    "import pandas as pd\n",
    "import numpy as np\n",
    "import matplotlib.pyplot as plt\n",
    "from sklearn.linear_model import LinearRegression\n",
    "import random\n",
    "import sqlite3"
   ]
  },
  {
   "cell_type": "markdown",
   "id": "fbb867cd",
   "metadata": {},
   "source": [
    "## Botando o Faker em Português"
   ]
  },
  {
   "cell_type": "code",
   "execution_count": 67,
   "id": "417cd705",
   "metadata": {},
   "outputs": [],
   "source": [
    "fake = Faker('pt_BR')"
   ]
  },
  {
   "cell_type": "markdown",
   "id": "20df1e5d",
   "metadata": {},
   "source": [
    "## Conectando o banco de dados do Django"
   ]
  },
  {
   "cell_type": "code",
   "execution_count": 68,
   "id": "873cad1c",
   "metadata": {},
   "outputs": [],
   "source": [
    "conn = sqlite3.connect('db.sqlite3')\n",
    "\n",
    "\n",
    "cur = conn.cursor()\n",
    "\n"
   ]
  },
  {
   "cell_type": "markdown",
   "id": "f72d0e46",
   "metadata": {},
   "source": [
    "### Verificando tabelas do Django"
   ]
  },
  {
   "cell_type": "code",
   "execution_count": 69,
   "id": "21bd2290",
   "metadata": {},
   "outputs": [
    {
     "name": "stdout",
     "output_type": "stream",
     "text": [
      "('django_migrations',)\n",
      "('Me_Ajuda_Chefe_receitas',)\n",
      "('Me_Ajuda_Chefe_usuario',)\n",
      "('Me_Ajuda_Chefe_acessos',)\n",
      "('auth_group_permissions',)\n",
      "('auth_user_groups',)\n",
      "('auth_user_user_permissions',)\n",
      "('django_admin_log',)\n",
      "('django_content_type',)\n",
      "('auth_permission',)\n",
      "('auth_group',)\n",
      "('auth_user',)\n",
      "('django_session',)\n"
     ]
    }
   ],
   "source": [
    "query = '''\n",
    "SELECT name\n",
    "FROM sqlite_master \n",
    "WHERE type ='table' AND name NOT LIKE 'sqlite_%';\n",
    "'''\n",
    "\n",
    "cur.execute(query)\n",
    "for c in cur.fetchall():\n",
    "    print(c)"
   ]
  },
  {
   "cell_type": "markdown",
   "id": "0738ac6b",
   "metadata": {},
   "source": [
    "### Deletando dados existentes"
   ]
  },
  {
   "cell_type": "code",
   "execution_count": 70,
   "id": "f9306e4e",
   "metadata": {},
   "outputs": [
    {
     "ename": "OperationalError",
     "evalue": "database is locked",
     "output_type": "error",
     "traceback": [
      "\u001b[1;31m---------------------------------------------------------------------------\u001b[0m",
      "\u001b[1;31mOperationalError\u001b[0m                          Traceback (most recent call last)",
      "\u001b[1;32m~\\AppData\\Local\\Temp/ipykernel_31088/3855624414.py\u001b[0m in \u001b[0;36m<module>\u001b[1;34m\u001b[0m\n\u001b[1;32m----> 1\u001b[1;33m \u001b[0mcur\u001b[0m\u001b[1;33m.\u001b[0m\u001b[0mexecute\u001b[0m\u001b[1;33m(\u001b[0m\u001b[1;34m'DELETE FROM Me_Ajuda_Chefe_receitas'\u001b[0m\u001b[1;33m)\u001b[0m\u001b[1;33m\u001b[0m\u001b[1;33m\u001b[0m\u001b[0m\n\u001b[0m",
      "\u001b[1;31mOperationalError\u001b[0m: database is locked"
     ]
    }
   ],
   "source": [
    "cur.execute('DELETE FROM Me_Ajuda_Chefe_receitas')"
   ]
  },
  {
   "cell_type": "markdown",
   "id": "8a8130d9",
   "metadata": {},
   "source": [
    "# Gerando os dados"
   ]
  },
  {
   "cell_type": "markdown",
   "id": "7cd33850",
   "metadata": {},
   "source": [
    "## Usuarios"
   ]
  },
  {
   "cell_type": "code",
   "execution_count": null,
   "id": "9e3d2d18",
   "metadata": {},
   "outputs": [
    {
     "data": {
      "text/plain": [
       "13"
      ]
     },
     "execution_count": 26,
     "metadata": {},
     "output_type": "execute_result"
    }
   ],
   "source": [
    "Estado_Civil = ['Solteiro', 'Casado', 'Divorciado']\n",
    "random.choice(Estado_Civil)\n",
    "\n",
    "Chef_e_ou_Cliente = ['Sim - Sim', 'Sim - Não', 'Não - Sim']\n",
    "random.choice(Chef_e_ou_Cliente)\n",
    "\n",
    "Itens_Comprados = [0,1,2,3,4,5,6,7,8,9,10,11,12,13,14,15,16,17,18,19,20]\n",
    "random.choice(Itens_Comprados)"
   ]
  },
  {
   "cell_type": "code",
   "execution_count": null,
   "id": "dede29a7",
   "metadata": {},
   "outputs": [
    {
     "data": {
      "text/html": [
       "<div>\n",
       "<style scoped>\n",
       "    .dataframe tbody tr th:only-of-type {\n",
       "        vertical-align: middle;\n",
       "    }\n",
       "\n",
       "    .dataframe tbody tr th {\n",
       "        vertical-align: top;\n",
       "    }\n",
       "\n",
       "    .dataframe thead th {\n",
       "        text-align: right;\n",
       "    }\n",
       "</style>\n",
       "<table border=\"1\" class=\"dataframe\">\n",
       "  <thead>\n",
       "    <tr style=\"text-align: right;\">\n",
       "      <th></th>\n",
       "      <th>IdUsuario</th>\n",
       "      <th>Nome</th>\n",
       "      <th>Email</th>\n",
       "      <th>Senha</th>\n",
       "      <th>Estado</th>\n",
       "      <th>Data_de_Nascimento</th>\n",
       "      <th>Telefone</th>\n",
       "      <th>Estado_Civil</th>\n",
       "      <th>Chefe_e_ou_Cliente</th>\n",
       "      <th>Itens_Comprados</th>\n",
       "    </tr>\n",
       "  </thead>\n",
       "  <tbody>\n",
       "    <tr>\n",
       "      <th>0</th>\n",
       "      <td>1</td>\n",
       "      <td>Dra. Ana Clara Dias</td>\n",
       "      <td>pfernandes@example.com</td>\n",
       "      <td>05X#Z)6d_C</td>\n",
       "      <td>Bahia</td>\n",
       "      <td>1968-08-07</td>\n",
       "      <td>+55 11 5940-2698</td>\n",
       "      <td>Solteiro</td>\n",
       "      <td>Não - Sim</td>\n",
       "      <td>9</td>\n",
       "    </tr>\n",
       "    <tr>\n",
       "      <th>1</th>\n",
       "      <td>2</td>\n",
       "      <td>Lorena Pinto</td>\n",
       "      <td>hnascimento@example.net</td>\n",
       "      <td>V*0rM7v)5w</td>\n",
       "      <td>Rondônia</td>\n",
       "      <td>1986-04-04</td>\n",
       "      <td>+55 61 7066 0965</td>\n",
       "      <td>Solteiro</td>\n",
       "      <td>Sim - Não</td>\n",
       "      <td>4</td>\n",
       "    </tr>\n",
       "    <tr>\n",
       "      <th>2</th>\n",
       "      <td>3</td>\n",
       "      <td>Caroline Costa</td>\n",
       "      <td>nathancorreia@example.net</td>\n",
       "      <td>&amp;dJwZty+_5</td>\n",
       "      <td>Sergipe</td>\n",
       "      <td>1947-03-09</td>\n",
       "      <td>(071) 4792 0670</td>\n",
       "      <td>Divorciado</td>\n",
       "      <td>Sim - Sim</td>\n",
       "      <td>11</td>\n",
       "    </tr>\n",
       "    <tr>\n",
       "      <th>3</th>\n",
       "      <td>4</td>\n",
       "      <td>Bianca Cunha</td>\n",
       "      <td>teixeiracatarina@example.com</td>\n",
       "      <td>$HxZ2)Ms9H</td>\n",
       "      <td>Minas Gerais</td>\n",
       "      <td>2014-07-01</td>\n",
       "      <td>41 3832-2015</td>\n",
       "      <td>Casado</td>\n",
       "      <td>Sim - Sim</td>\n",
       "      <td>13</td>\n",
       "    </tr>\n",
       "    <tr>\n",
       "      <th>4</th>\n",
       "      <td>5</td>\n",
       "      <td>Dr. Isaac Ramos</td>\n",
       "      <td>valentina38@example.net</td>\n",
       "      <td>_V5FQ#o$Y_</td>\n",
       "      <td>Rondônia</td>\n",
       "      <td>1909-07-07</td>\n",
       "      <td>0800 659 5390</td>\n",
       "      <td>Divorciado</td>\n",
       "      <td>Não - Sim</td>\n",
       "      <td>11</td>\n",
       "    </tr>\n",
       "    <tr>\n",
       "      <th>5</th>\n",
       "      <td>6</td>\n",
       "      <td>Isis Novaes</td>\n",
       "      <td>xfreitas@example.net</td>\n",
       "      <td>e!6vtHsx$4</td>\n",
       "      <td>Amapá</td>\n",
       "      <td>2002-12-22</td>\n",
       "      <td>61 8795-7331</td>\n",
       "      <td>Divorciado</td>\n",
       "      <td>Sim - Sim</td>\n",
       "      <td>13</td>\n",
       "    </tr>\n",
       "    <tr>\n",
       "      <th>6</th>\n",
       "      <td>7</td>\n",
       "      <td>Mirella Peixoto</td>\n",
       "      <td>laurada-cunha@example.com</td>\n",
       "      <td>9%5Rf$B(N$</td>\n",
       "      <td>Paraná</td>\n",
       "      <td>1917-11-29</td>\n",
       "      <td>0300 339 1226</td>\n",
       "      <td>Casado</td>\n",
       "      <td>Sim - Não</td>\n",
       "      <td>3</td>\n",
       "    </tr>\n",
       "    <tr>\n",
       "      <th>7</th>\n",
       "      <td>8</td>\n",
       "      <td>Srta. Ana Sophia Costa</td>\n",
       "      <td>joao-felipepinto@example.com</td>\n",
       "      <td>%s9IpMPxHY</td>\n",
       "      <td>Pará</td>\n",
       "      <td>1927-01-08</td>\n",
       "      <td>+55 21 2806-6183</td>\n",
       "      <td>Divorciado</td>\n",
       "      <td>Sim - Sim</td>\n",
       "      <td>6</td>\n",
       "    </tr>\n",
       "    <tr>\n",
       "      <th>8</th>\n",
       "      <td>9</td>\n",
       "      <td>Rafael Fogaça</td>\n",
       "      <td>brocha@example.net</td>\n",
       "      <td>*W91GcTt!R</td>\n",
       "      <td>Tocantins</td>\n",
       "      <td>1981-04-27</td>\n",
       "      <td>+55 61 4952 5311</td>\n",
       "      <td>Divorciado</td>\n",
       "      <td>Sim - Não</td>\n",
       "      <td>7</td>\n",
       "    </tr>\n",
       "    <tr>\n",
       "      <th>9</th>\n",
       "      <td>10</td>\n",
       "      <td>Davi Lima</td>\n",
       "      <td>tsilva@example.com</td>\n",
       "      <td>_)I4Ame7RG</td>\n",
       "      <td>Pará</td>\n",
       "      <td>1994-08-01</td>\n",
       "      <td>(081) 5673-8019</td>\n",
       "      <td>Solteiro</td>\n",
       "      <td>Sim - Sim</td>\n",
       "      <td>3</td>\n",
       "    </tr>\n",
       "  </tbody>\n",
       "</table>\n",
       "</div>"
      ],
      "text/plain": [
       "   IdUsuario                    Nome                         Email  \\\n",
       "0          1     Dra. Ana Clara Dias        pfernandes@example.com   \n",
       "1          2            Lorena Pinto       hnascimento@example.net   \n",
       "2          3          Caroline Costa     nathancorreia@example.net   \n",
       "3          4            Bianca Cunha  teixeiracatarina@example.com   \n",
       "4          5         Dr. Isaac Ramos       valentina38@example.net   \n",
       "5          6             Isis Novaes          xfreitas@example.net   \n",
       "6          7         Mirella Peixoto     laurada-cunha@example.com   \n",
       "7          8  Srta. Ana Sophia Costa  joao-felipepinto@example.com   \n",
       "8          9           Rafael Fogaça            brocha@example.net   \n",
       "9         10               Davi Lima            tsilva@example.com   \n",
       "\n",
       "        Senha        Estado Data_de_Nascimento          Telefone Estado_Civil  \\\n",
       "0  05X#Z)6d_C         Bahia         1968-08-07  +55 11 5940-2698     Solteiro   \n",
       "1  V*0rM7v)5w      Rondônia         1986-04-04  +55 61 7066 0965     Solteiro   \n",
       "2  &dJwZty+_5       Sergipe         1947-03-09   (071) 4792 0670   Divorciado   \n",
       "3  $HxZ2)Ms9H  Minas Gerais         2014-07-01      41 3832-2015       Casado   \n",
       "4  _V5FQ#o$Y_      Rondônia         1909-07-07     0800 659 5390   Divorciado   \n",
       "5  e!6vtHsx$4         Amapá         2002-12-22      61 8795-7331   Divorciado   \n",
       "6  9%5Rf$B(N$        Paraná         1917-11-29     0300 339 1226       Casado   \n",
       "7  %s9IpMPxHY          Pará         1927-01-08  +55 21 2806-6183   Divorciado   \n",
       "8  *W91GcTt!R     Tocantins         1981-04-27  +55 61 4952 5311   Divorciado   \n",
       "9  _)I4Ame7RG          Pará         1994-08-01   (081) 5673-8019     Solteiro   \n",
       "\n",
       "  Chefe_e_ou_Cliente  Itens_Comprados  \n",
       "0          Não - Sim                9  \n",
       "1          Sim - Não                4  \n",
       "2          Sim - Sim               11  \n",
       "3          Sim - Sim               13  \n",
       "4          Não - Sim               11  \n",
       "5          Sim - Sim               13  \n",
       "6          Sim - Não                3  \n",
       "7          Sim - Sim                6  \n",
       "8          Sim - Não                7  \n",
       "9          Sim - Sim                3  "
      ]
     },
     "execution_count": 27,
     "metadata": {},
     "output_type": "execute_result"
    }
   ],
   "source": [
    "usuarios = {\n",
    "    'IdUsuario': [],\n",
    "    'Nome': [],\n",
    "    'Email':[],\n",
    "    'Senha': [],\n",
    "    'Estado': [],\n",
    "    'Data_de_Nascimento': [],\n",
    "    'Telefone': [],\n",
    "    'Estado_Civil': [],\n",
    "    'Chefe_e_ou_Cliente': [],\n",
    "    'Itens_Comprados': []\n",
    "}\n",
    "\n",
    "for idusuario in range(1, 201):\n",
    "    usuarios['IdUsuario'].append(idusuario)\n",
    "    usuarios['Nome'].append(fake.name())\n",
    "    usuarios['Email'].append(fake.email())\n",
    "    usuarios['Senha'].append(fake.password())\n",
    "    usuarios['Estado'].append(fake.state())\n",
    "    usuarios['Data_de_Nascimento'].append(fake.date_of_birth())\n",
    "    usuarios['Telefone'].append(fake.phone_number())\n",
    "    usuarios['Estado_Civil'].append(random.choice(Estado_Civil))\n",
    "    usuarios['Chefe_e_ou_Cliente'].append(random.choice(Chef_e_ou_Cliente))\n",
    "    usuarios['Itens_Comprados'].append(random.choice(Itens_Comprados))\n",
    "\n",
    "df_usu = pd.DataFrame(usuarios)\n",
    "df_usu.head(10)"
   ]
  },
  {
   "cell_type": "markdown",
   "id": "daca9e34",
   "metadata": {},
   "source": [
    "## Receitas"
   ]
  },
  {
   "cell_type": "code",
   "execution_count": null,
   "id": "de9501ce",
   "metadata": {},
   "outputs": [
    {
     "data": {
      "text/html": [
       "<div>\n",
       "<style scoped>\n",
       "    .dataframe tbody tr th:only-of-type {\n",
       "        vertical-align: middle;\n",
       "    }\n",
       "\n",
       "    .dataframe tbody tr th {\n",
       "        vertical-align: top;\n",
       "    }\n",
       "\n",
       "    .dataframe thead th {\n",
       "        text-align: right;\n",
       "    }\n",
       "</style>\n",
       "<table border=\"1\" class=\"dataframe\">\n",
       "  <thead>\n",
       "    <tr style=\"text-align: right;\">\n",
       "      <th></th>\n",
       "      <th>IdReceitas</th>\n",
       "      <th>Receitas</th>\n",
       "    </tr>\n",
       "  </thead>\n",
       "  <tbody>\n",
       "    <tr>\n",
       "      <th>0</th>\n",
       "      <td>1</td>\n",
       "      <td>Receita de Pão</td>\n",
       "    </tr>\n",
       "    <tr>\n",
       "      <th>1</th>\n",
       "      <td>2</td>\n",
       "      <td>Receita deFricassê Vegetariano</td>\n",
       "    </tr>\n",
       "    <tr>\n",
       "      <th>2</th>\n",
       "      <td>3</td>\n",
       "      <td>Receita de Lasanha de Carne Moída</td>\n",
       "    </tr>\n",
       "    <tr>\n",
       "      <th>3</th>\n",
       "      <td>4</td>\n",
       "      <td>Receita de Cappuccino Nutren Senior</td>\n",
       "    </tr>\n",
       "  </tbody>\n",
       "</table>\n",
       "</div>"
      ],
      "text/plain": [
       "  IdReceitas                             Receitas\n",
       "0          1                       Receita de Pão\n",
       "1          2       Receita deFricassê Vegetariano\n",
       "2          3    Receita de Lasanha de Carne Moída\n",
       "3          4  Receita de Cappuccino Nutren Senior"
      ]
     },
     "execution_count": 28,
     "metadata": {},
     "output_type": "execute_result"
    }
   ],
   "source": [
    "receitas = {\n",
    "    'IdReceitas': [1, 2, 3, 4],\n",
    "    'Receitas': ['Receita de Pão', 'Receita deFricassê Vegetariano', 'Receita de Lasanha de Carne Moída', 'Receita de Cappuccino Nutren Senior'],\n",
    "}\n",
    "\n",
    "df_rece = pd.DataFrame(receitas)\n",
    "df_rece['IdReceitas'] = df_rece['IdReceitas'].astype(str)\n",
    "df_rece.head(4)"
   ]
  },
  {
   "cell_type": "markdown",
   "id": "8ec1844c",
   "metadata": {},
   "source": [
    "## Acessos"
   ]
  },
  {
   "cell_type": "code",
   "execution_count": null,
   "id": "b5591b76",
   "metadata": {},
   "outputs": [
    {
     "data": {
      "text/html": [
       "<div>\n",
       "<style scoped>\n",
       "    .dataframe tbody tr th:only-of-type {\n",
       "        vertical-align: middle;\n",
       "    }\n",
       "\n",
       "    .dataframe tbody tr th {\n",
       "        vertical-align: top;\n",
       "    }\n",
       "\n",
       "    .dataframe thead th {\n",
       "        text-align: right;\n",
       "    }\n",
       "</style>\n",
       "<table border=\"1\" class=\"dataframe\">\n",
       "  <thead>\n",
       "    <tr style=\"text-align: right;\">\n",
       "      <th></th>\n",
       "      <th>IdUsuarios</th>\n",
       "      <th>IdReceitas</th>\n",
       "      <th>Data</th>\n",
       "    </tr>\n",
       "  </thead>\n",
       "  <tbody>\n",
       "    <tr>\n",
       "      <th>0</th>\n",
       "      <td>44</td>\n",
       "      <td>1</td>\n",
       "      <td>2021-09-28</td>\n",
       "    </tr>\n",
       "    <tr>\n",
       "      <th>1</th>\n",
       "      <td>17</td>\n",
       "      <td>3</td>\n",
       "      <td>2021-09-30</td>\n",
       "    </tr>\n",
       "    <tr>\n",
       "      <th>2</th>\n",
       "      <td>8</td>\n",
       "      <td>4</td>\n",
       "      <td>2021-09-30</td>\n",
       "    </tr>\n",
       "    <tr>\n",
       "      <th>3</th>\n",
       "      <td>198</td>\n",
       "      <td>3</td>\n",
       "      <td>2021-10-01</td>\n",
       "    </tr>\n",
       "    <tr>\n",
       "      <th>4</th>\n",
       "      <td>105</td>\n",
       "      <td>1</td>\n",
       "      <td>2021-10-02</td>\n",
       "    </tr>\n",
       "    <tr>\n",
       "      <th>...</th>\n",
       "      <td>...</td>\n",
       "      <td>...</td>\n",
       "      <td>...</td>\n",
       "    </tr>\n",
       "    <tr>\n",
       "      <th>195</th>\n",
       "      <td>183</td>\n",
       "      <td>2</td>\n",
       "      <td>2021-12-03</td>\n",
       "    </tr>\n",
       "    <tr>\n",
       "      <th>196</th>\n",
       "      <td>7</td>\n",
       "      <td>1</td>\n",
       "      <td>2021-12-03</td>\n",
       "    </tr>\n",
       "    <tr>\n",
       "      <th>197</th>\n",
       "      <td>42</td>\n",
       "      <td>3</td>\n",
       "      <td>2021-12-03</td>\n",
       "    </tr>\n",
       "    <tr>\n",
       "      <th>198</th>\n",
       "      <td>180</td>\n",
       "      <td>4</td>\n",
       "      <td>2021-12-03</td>\n",
       "    </tr>\n",
       "    <tr>\n",
       "      <th>199</th>\n",
       "      <td>103</td>\n",
       "      <td>4</td>\n",
       "      <td>2021-12-03</td>\n",
       "    </tr>\n",
       "  </tbody>\n",
       "</table>\n",
       "<p>200 rows × 3 columns</p>\n",
       "</div>"
      ],
      "text/plain": [
       "     IdUsuarios  IdReceitas       Data\n",
       "0            44           1 2021-09-28\n",
       "1            17           3 2021-09-30\n",
       "2             8           4 2021-09-30\n",
       "3           198           3 2021-10-01\n",
       "4           105           1 2021-10-02\n",
       "..          ...         ...        ...\n",
       "195         183           2 2021-12-03\n",
       "196           7           1 2021-12-03\n",
       "197          42           3 2021-12-03\n",
       "198         180           4 2021-12-03\n",
       "199         103           4 2021-12-03\n",
       "\n",
       "[200 rows x 3 columns]"
      ]
     },
     "execution_count": 29,
     "metadata": {},
     "output_type": "execute_result"
    }
   ],
   "source": [
    "adates = np.arange(np.datetime64('2021-09-27'), np.datetime64('2021-12-04'))\n",
    "probs = np.linspace(1, 2, num=adates.size)\n",
    "probs = probs / probs.sum()\n",
    "dates = np.random.choice(adates, p=probs, size=200)\n",
    "dates.sort()\n",
    "acessos = {\n",
    "    'IdUsuarios' : [],\n",
    "    'IdReceitas' : [],\n",
    "    'Data' : []\n",
    "}\n",
    "for idusuarios, date in enumerate(dates):\n",
    "    acessos['IdUsuarios'].append(np.random.choice(df_usu['IdUsuario']))\n",
    "    acessos['IdReceitas'].append(np.random.choice(df_rece['IdReceitas']))\n",
    "    acessos['Data'].append(date)\n",
    "    \n",
    "df_ven = pd.DataFrame(acessos)\n",
    "df_ven['IdReceitas'] = df_ven['IdReceitas'].astype(int)\n",
    "df_ven.head(200)"
   ]
  },
  {
   "cell_type": "markdown",
   "id": "54df70a6",
   "metadata": {},
   "source": [
    "## Colocando dados no banco de dados"
   ]
  },
  {
   "cell_type": "code",
   "execution_count": null,
   "id": "6018fd5d",
   "metadata": {},
   "outputs": [],
   "source": [
    "data_usu = []\n",
    "for i in range(0,len(data_usu)):\n",
    "    tuple = (int(df_usu['IdUsuario'][i]),\n",
    "            str(df_usu['Nome'][i]),\n",
    "            int(df_usu['Email'][i]),\n",
    "            str(df_usu['Senha'][i]),\n",
    "            str(df_usu['Data_de_Nascimento'][i]),\n",
    "            str(df_usu['Telefone'][i]),\n",
    "            str(df_usu['Estado_Civil'][i]),\n",
    "            str(df_usu['Chefe_e_ou_Cliente'][i]),\n",
    "            str(df_usu['Itens_Comprados'][i]), \n",
    "            )\n",
    "    data_usu.append(tuple)"
   ]
  },
  {
   "cell_type": "code",
   "execution_count": null,
   "id": "327922c5",
   "metadata": {},
   "outputs": [],
   "source": [
    "cur.executemany('INSERT INTO Me_Ajuda_Chefe_usuario VALUES (?,?,?,?)', data_usu)"
   ]
  },
  {
   "cell_type": "code",
   "execution_count": null,
   "id": "0fa8add2",
   "metadata": {},
   "outputs": [],
   "source": [
    "data_rece = []\n",
    "for i in range(0,len(usu)):\n",
    "    tuple = (int(df_rece['IdReceitas'][i]),\n",
    "            str(df_rece['Receitas'][i]),\n",
    "            )\n",
    "    data_rece.append(tuple)"
   ]
  },
  {
   "cell_type": "code",
   "execution_count": null,
   "id": "3a6ba5d3",
   "metadata": {},
   "outputs": [],
   "source": [
    "cur.executemany('INSERT INTO Me_Ajuda_Chefe_receitas VALUES (?,?,?,?)', data_rece)"
   ]
  },
  {
   "cell_type": "code",
   "execution_count": null,
   "id": "49ad065a",
   "metadata": {},
   "outputs": [],
   "source": [
    "data_ven = []\n",
    "for i in range(0,len(usu)):\n",
    "    tuple = (int(df_ven['IUsuarios'][i]),\n",
    "            int(df_ven['IdReceitas'][i]),\n",
    "            str(df_ven['Data'][i]),\n",
    "            )\n",
    "    data_ve.append(tuple)"
   ]
  }
 ],
 "metadata": {
  "kernelspec": {
   "display_name": "Python 3 (ipykernel)",
   "language": "python",
   "name": "python3"
  },
  "language_info": {
   "codemirror_mode": {
    "name": "ipython",
    "version": 3
   },
   "file_extension": ".py",
   "mimetype": "text/x-python",
   "name": "python",
   "nbconvert_exporter": "python",
   "pygments_lexer": "ipython3",
   "version": "3.9.7"
  }
 },
 "nbformat": 4,
 "nbformat_minor": 5
}
